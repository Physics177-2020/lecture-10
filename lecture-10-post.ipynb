{
  "nbformat": 4,
  "nbformat_minor": 0,
  "metadata": {
    "kernelspec": {
      "display_name": "Python 3",
      "language": "python",
      "name": "python3"
    },
    "language_info": {
      "codemirror_mode": {
        "name": "ipython",
        "version": 3
      },
      "file_extension": ".py",
      "mimetype": "text/x-python",
      "name": "python",
      "nbconvert_exporter": "python",
      "pygments_lexer": "ipython3",
      "version": "3.7.7"
    },
    "colab": {
      "name": "lecture-10.ipynb",
      "provenance": []
    }
  },
  "cells": [
    {
      "cell_type": "markdown",
      "metadata": {
        "id": "TkrGaYjbvvuA",
        "colab_type": "text"
      },
      "source": [
        "# Lecture 10: Gibbs distribution for a single spin in an external magnetic field\n",
        "\n",
        "The energy of a particle with magnetic moment $\\mathbf{\\mu}$ in a magnetic field $\\mathbf{B}$ is given by\n",
        "\n",
        "$$ E = -\\mathbf{\\mu}\\cdot \\mathbf{B}\\,.$$\n",
        "\n",
        "Let's consider a statistical model of a particle in an external magnetic field. To keep things simple, we'll assume that the magnetic field is oriented in a fixed direction, and that the magnetic moment of the particle can be either aligned or anti-aligned with the magnetic field. In statistical physics models, these particles are often called **spins**.\n",
        "\n",
        "Mathematically, we could describe the orientation of the spin with a variable $\\sigma \\in \\{-1, 1\\}$. Let's assume that the magnetic field is oriented in the positive direction. The energy of the spin is then\n",
        "\n",
        "$$ E(\\sigma) = -\\epsilon \\sigma\\,, $$\n",
        "\n",
        "where $\\epsilon = \\mu B$. If we maintain the system with the spin at a constant temperature $T$, then the Gibbs distribution for the spin states $\\sigma$ is\n",
        "\n",
        "$$ P(\\sigma) = \\frac{e^{-E(\\sigma)/T}}{Z} \\,.$$\n",
        "\n",
        "Here we've chosen units such that Boltzmann's constant $k_B=1$.\n",
        "\n",
        "### Example: Coding the Gibbs distribution\n",
        "\n",
        "Now let's write a function that returns $P(\\sigma)$."
      ]
    },
    {
      "cell_type": "code",
      "metadata": {
        "id": "PHl2uXUJvvuB",
        "colab_type": "code",
        "colab": {
          "base_uri": "https://localhost:8080/",
          "height": 74
        },
        "outputId": "72d6d986-bc8e-44e0-ee4e-5463402ac407"
      },
      "source": [
        "import numpy as np\n",
        "import numpy.random as rng\n",
        "import seaborn as sns\n",
        "import matplotlib.pyplot as plt\n",
        "\n",
        "\n",
        "def gibbs(eps, T):\n",
        "    \"\"\" This function takes the energy eps and temperature T as input\n",
        "        and returns the Gibbs distribution for a single spin as output \"\"\"\n",
        "    \n",
        "    Z     = np.exp(-eps/T) + np.exp(eps/T)\n",
        "    p_pos = np.exp( eps/T) / Z\n",
        "    p_neg = np.exp(-eps/T) / Z\n",
        "    \n",
        "    return p_pos, p_neg"
      ],
      "execution_count": 1,
      "outputs": [
        {
          "output_type": "stream",
          "text": [
            "/usr/local/lib/python3.6/dist-packages/statsmodels/tools/_testing.py:19: FutureWarning: pandas.util.testing is deprecated. Use the functions in the public API at pandas.testing instead.\n",
            "  import pandas.util.testing as tm\n"
          ],
          "name": "stderr"
        }
      ]
    },
    {
      "cell_type": "markdown",
      "metadata": {
        "id": "w9pI-2csvvuG",
        "colab_type": "text"
      },
      "source": [
        "The magnetization is the average direction of the spin, given by\n",
        "\n",
        "$$ m = \\left\\langle \\sigma \\right\\rangle = \\sum_{\\sigma\\in\\{\\pm 1\\}} \\sigma \\frac{e^{\\epsilon \\sigma/T}}{Z} \\,. $$ \n",
        "\n",
        "Let's use the Gibbs distribution above to compute the magnetization when $\\epsilon=1$ and $T=1$."
      ]
    },
    {
      "cell_type": "code",
      "metadata": {
        "id": "LWY9EtKAvvuH",
        "colab_type": "code",
        "colab": {
          "base_uri": "https://localhost:8080/",
          "height": 35
        },
        "outputId": "d2376d3f-94a0-4510-d187-4d5d02f01e7d"
      },
      "source": [
        "p_pos, p_neg = gibbs(1, 1)\n",
        "\n",
        "m = 1 * p_pos + (-1 * p_neg)\n",
        "\n",
        "print('The magnetization is %lf' % m)"
      ],
      "execution_count": 2,
      "outputs": [
        {
          "output_type": "stream",
          "text": [
            "The magnetization is 0.761594\n"
          ],
          "name": "stdout"
        }
      ]
    },
    {
      "cell_type": "code",
      "metadata": {
        "id": "cwG_i3f8vvuM",
        "colab_type": "code",
        "colab": {}
      },
      "source": [
        "\n",
        "\n",
        "\n",
        "\n",
        "\n",
        "\n",
        "\n",
        "\n",
        "\n",
        "\n",
        "\n",
        "\n",
        "\n",
        "\n",
        "\n",
        "\n",
        "\n",
        "\n",
        "\n",
        "\n",
        "\n",
        "\n"
      ],
      "execution_count": 0,
      "outputs": []
    },
    {
      "cell_type": "markdown",
      "metadata": {
        "id": "oI6iLiL4vvuR",
        "colab_type": "text"
      },
      "source": [
        "And now, let's explore the dependence of the magnetization on the strength and direction of the external magnetic field $\\mathbf{B}$. Because $\\epsilon$ is directly proportional to $\\mathbf{B}$, we can explore this behavior by manipulating $\\epsilon$ directly. For this demonstration we'll set $T=1$.\n",
        "\n",
        "*Aside*: In this simple case we can analytically write down the magnetization as a simple hyperbolic function."
      ]
    },
    {
      "cell_type": "code",
      "metadata": {
        "id": "347yiXRSvvuS",
        "colab_type": "code",
        "colab": {
          "base_uri": "https://localhost:8080/",
          "height": 279
        },
        "outputId": "5064b70a-ab6e-4fea-8955-23db78ab7e55"
      },
      "source": [
        "eps_values = np.arange(-2, 2, 0.01)\n",
        "m_values   = []\n",
        "\n",
        "for eps in eps_values:\n",
        "    p_pos, p_neg = gibbs(eps, 1)\n",
        "    m_values.append( p_pos - p_neg )\n",
        "    \n",
        "sns.lineplot(eps_values, m_values)\n",
        "plt.xlabel('magnetic field')\n",
        "plt.ylabel('magnetization');"
      ],
      "execution_count": 3,
      "outputs": [
        {
          "output_type": "display_data",
          "data": {
            "image/png": "[encoded data removed]",
            "text/plain": [
              "<Figure size 432x288 with 1 Axes>"
            ]
          },
          "metadata": {
            "tags": [],
            "needs_background": "light"
          }
        }
      ]
    },
    {
      "cell_type": "code",
      "metadata": {
        "id": "b1XkfU5_vvuX",
        "colab_type": "code",
        "colab": {}
      },
      "source": [
        "\n",
        "\n",
        "\n",
        "\n",
        "\n",
        "\n",
        "\n",
        "\n",
        "\n",
        "\n",
        "\n",
        "\n",
        "\n",
        "\n",
        "\n",
        "\n",
        "\n",
        "\n",
        "\n",
        "\n",
        "\n",
        "\n"
      ],
      "execution_count": 0,
      "outputs": []
    },
    {
      "cell_type": "markdown",
      "metadata": {
        "id": "pvuw3Tquvvuc",
        "colab_type": "text"
      },
      "source": [
        "**Exercise**: Explore the behavior of the magnetization as a function of the temperature when the strength of the magnetic field is fixed such that $\\epsilon = 1$. What do you expect to observe? \n",
        "\n",
        "**Note**: You might want to use a logarithmic scale for the temperature range. You can do this with the `logspace` function from `numpy`. Calling `np.logspace(start, end, num)` will return an array of `num` numbers from $10^{\\rm{start}}$ to $10^{\\rm{end}}$ that are evenly spaced on a log scale."
      ]
    },
    {
      "cell_type": "code",
      "metadata": {
        "id": "XVxOc649vvuc",
        "colab_type": "code",
        "colab": {
          "base_uri": "https://localhost:8080/",
          "height": 283
        },
        "outputId": "4fbb5f3c-76d5-4125-b125-66dbf268e45d"
      },
      "source": [
        "import numpy as np\n",
        "\n",
        "eps      = 1\n",
        "T_values = np.logspace(-2, 2, 1000)\n",
        "m_values = []\n",
        "\n",
        "# Loop through the T values to fill in magnetizations!\n",
        "for T in T_values:\n",
        "  p_pos, p_neg = gibbs(eps, T)\n",
        "  m_values.append(p_pos - p_neg)\n",
        "    \n",
        "sns.lineplot(T_values, m_values)\n",
        "plt.xscale('log')\n",
        "plt.xlabel('temperature')\n",
        "plt.ylabel('magnetization');"
      ],
      "execution_count": 5,
      "outputs": [
        {
          "output_type": "display_data",
          "data": {
            "image/png": "[encoded data removed]",
            "text/plain": [
              "<Figure size 432x288 with 1 Axes>"
            ]
          },
          "metadata": {
            "tags": [],
            "needs_background": "light"
          }
        }
      ]
    },
    {
      "cell_type": "code",
      "metadata": {
        "id": "gfbi69eNyhI-",
        "colab_type": "code",
        "colab": {
          "base_uri": "https://localhost:8080/",
          "height": 1000
        },
        "outputId": "0f7128dd-2e81-4500-c211-fdb502a92c70"
      },
      "source": [
        "help(np.logspace)"
      ],
      "execution_count": 4,
      "outputs": [
        {
          "output_type": "stream",
          "text": [
            "Help on function logspace in module numpy:\n",
            "\n",
            "logspace(start, stop, num=50, endpoint=True, base=10.0, dtype=None, axis=0)\n",
            "    Return numbers spaced evenly on a log scale.\n",
            "    \n",
            "    In linear space, the sequence starts at ``base ** start``\n",
            "    (`base` to the power of `start`) and ends with ``base ** stop``\n",
            "    (see `endpoint` below).\n",
            "    \n",
            "    .. versionchanged:: 1.16.0\n",
            "        Non-scalar `start` and `stop` are now supported.\n",
            "    \n",
            "    Parameters\n",
            "    ----------\n",
            "    start : array_like\n",
            "        ``base ** start`` is the starting value of the sequence.\n",
            "    stop : array_like\n",
            "        ``base ** stop`` is the final value of the sequence, unless `endpoint`\n",
            "        is False.  In that case, ``num + 1`` values are spaced over the\n",
            "        interval in log-space, of which all but the last (a sequence of\n",
            "        length `num`) are returned.\n",
            "    num : integer, optional\n",
            "        Number of samples to generate.  Default is 50.\n",
            "    endpoint : boolean, optional\n",
            "        If true, `stop` is the last sample. Otherwise, it is not included.\n",
            "        Default is True.\n",
            "    base : float, optional\n",
            "        The base of the log space. The step size between the elements in\n",
            "        ``ln(samples) / ln(base)`` (or ``log_base(samples)``) is uniform.\n",
            "        Default is 10.0.\n",
            "    dtype : dtype\n",
            "        The type of the output array.  If `dtype` is not given, infer the data\n",
            "        type from the other input arguments.\n",
            "    axis : int, optional\n",
            "        The axis in the result to store the samples.  Relevant only if start\n",
            "        or stop are array-like.  By default (0), the samples will be along a\n",
            "        new axis inserted at the beginning. Use -1 to get an axis at the end.\n",
            "    \n",
            "        .. versionadded:: 1.16.0\n",
            "    \n",
            "    \n",
            "    Returns\n",
            "    -------\n",
            "    samples : ndarray\n",
            "        `num` samples, equally spaced on a log scale.\n",
            "    \n",
            "    See Also\n",
            "    --------\n",
            "    arange : Similar to linspace, with the step size specified instead of the\n",
            "             number of samples. Note that, when used with a float endpoint, the\n",
            "             endpoint may or may not be included.\n",
            "    linspace : Similar to logspace, but with the samples uniformly distributed\n",
            "               in linear space, instead of log space.\n",
            "    geomspace : Similar to logspace, but with endpoints specified directly.\n",
            "    \n",
            "    Notes\n",
            "    -----\n",
            "    Logspace is equivalent to the code\n",
            "    \n",
            "    >>> y = np.linspace(start, stop, num=num, endpoint=endpoint)\n",
            "    ... # doctest: +SKIP\n",
            "    >>> power(base, y).astype(dtype)\n",
            "    ... # doctest: +SKIP\n",
            "    \n",
            "    Examples\n",
            "    --------\n",
            "    >>> np.logspace(2.0, 3.0, num=4)\n",
            "    array([ 100.        ,  215.443469  ,  464.15888336, 1000.        ])\n",
            "    >>> np.logspace(2.0, 3.0, num=4, endpoint=False)\n",
            "    array([100.        ,  177.827941  ,  316.22776602,  562.34132519])\n",
            "    >>> np.logspace(2.0, 3.0, num=4, base=2.0)\n",
            "    array([4.        ,  5.0396842 ,  6.34960421,  8.        ])\n",
            "    \n",
            "    Graphical illustration:\n",
            "    \n",
            "    >>> import matplotlib.pyplot as plt\n",
            "    >>> N = 10\n",
            "    >>> x1 = np.logspace(0.1, 1, N, endpoint=True)\n",
            "    >>> x2 = np.logspace(0.1, 1, N, endpoint=False)\n",
            "    >>> y = np.zeros(N)\n",
            "    >>> plt.plot(x1, y, 'o')\n",
            "    [<matplotlib.lines.Line2D object at 0x...>]\n",
            "    >>> plt.plot(x2, y + 0.5, 'o')\n",
            "    [<matplotlib.lines.Line2D object at 0x...>]\n",
            "    >>> plt.ylim([-0.5, 1])\n",
            "    (-0.5, 1)\n",
            "    >>> plt.show()\n",
            "\n"
          ],
          "name": "stdout"
        }
      ]
    },
    {
      "cell_type": "code",
      "metadata": {
        "id": "7g915UDRvvul",
        "colab_type": "code",
        "colab": {}
      },
      "source": [
        "\n",
        "\n",
        "\n",
        "\n",
        "\n",
        "\n",
        "\n",
        "\n",
        "\n",
        "\n",
        "\n",
        "\n",
        "\n",
        "\n",
        "\n",
        "\n",
        "\n",
        "\n",
        "\n",
        "\n",
        "\n",
        "\n"
      ],
      "execution_count": 0,
      "outputs": []
    }
  ]
}