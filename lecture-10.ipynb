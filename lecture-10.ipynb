{
 "cells": [
  {
   "cell_type": "markdown",
   "metadata": {},
   "source": [
    "# Lecture 10: Gibbs distribution for a single spin in an external magnetic field\n",
    "\n",
    "The energy of a particle with magnetic moment $\\mathbf{\\mu}$ in a magnetic field $\\mathbf{B}$ is given by\n",
    "\n",
    "$$ E = -\\mathbf{\\mu}\\cdot \\mathbf{B}\\,.$$\n",
    "\n",
    "Let's consider a statistical model of a particle in an external magnetic field. To keep things simple, we'll assume that the magnetic field is oriented in a fixed direction, and that the magnetic moment of the particle can be either aligned or anti-aligned with the magnetic field. In statistical physics models, these particles are often called **spins**.\n",
    "\n",
    "Mathematically, we could describe the orientation of the spin with a variable $\\sigma \\in \\{-1, 1\\}$. Let's assume that the magnetic field is oriented in the positive direction. The energy of the spin is then\n",
    "\n",
    "$$ E(\\sigma) = -\\epsilon \\sigma\\,, $$\n",
    "\n",
    "where $\\epsilon = \\mu B$. If we maintain the system with the spin at a constant temperature $T$, then the Gibbs distribution for the spin states $\\sigma$ is\n",
    "\n",
    "$$ P(\\sigma) = \\frac{e^{-E(\\sigma)/T}}{Z} \\,.$$\n",
    "\n",
    "Here we've chosen units such that Boltzmann's constant $k_B=1$.\n",
    "\n",
    "### Example: Coding the Gibbs distribution\n",
    "\n",
    "Now let's write a function that returns $P(\\sigma)$."
   ]
  },
  {
   "cell_type": "code",
   "execution_count": null,
   "metadata": {},
   "outputs": [],
   "source": [
    "import numpy as np\n",
    "import numpy.random as rng\n",
    "import seaborn as sns\n",
    "import matplotlib.pyplot as plt\n",
    "\n",
    "\n",
    "def gibbs(eps, T):\n",
    "    \"\"\" This function takes the energy eps and temperature T as input\n",
    "        and returns the Gibbs distribution for a single spin as output \"\"\"\n",
    "    \n",
    "    Z     = np.exp(-eps/T) + np.exp(eps/T)\n",
    "    p_pos = np.exp( eps/T) / Z\n",
    "    p_neg = np.exp(-eps/T) / Z\n",
    "    \n",
    "    return p_pos, p_neg"
   ]
  },
  {
   "cell_type": "markdown",
   "metadata": {},
   "source": [
    "The magnetization is the average direction of the spin, given by\n",
    "\n",
    "$$ m = \\left\\langle \\sigma \\right\\rangle = \\sum_{\\sigma\\in\\{\\pm 1\\}} \\sigma \\frac{e^{\\epsilon \\sigma/T}}{Z} \\,. $$ \n",
    "\n",
    "Let's use the Gibbs distribution above to compute the magnetization when $\\epsilon=1$ and $T=1$."
   ]
  },
  {
   "cell_type": "code",
   "execution_count": null,
   "metadata": {},
   "outputs": [],
   "source": [
    "p_pos, p_neg = gibbs(1, 1)\n",
    "\n",
    "m = # FILL THIS IN\n",
    "\n",
    "print('The magnetization is %lf' % m)"
   ]
  },
  {
   "cell_type": "code",
   "execution_count": null,
   "metadata": {},
   "outputs": [],
   "source": [
    "\n",
    "\n",
    "\n",
    "\n",
    "\n",
    "\n",
    "\n",
    "\n",
    "\n",
    "\n",
    "\n",
    "\n",
    "\n",
    "\n",
    "\n",
    "\n",
    "\n",
    "\n",
    "\n",
    "\n",
    "\n",
    "\n"
   ]
  },
  {
   "cell_type": "markdown",
   "metadata": {},
   "source": [
    "And now, let's explore the dependence of the magnetization on the strength and direction of the external magnetic field $\\mathbf{B}$. Because $\\epsilon$ is directly proportional to $\\mathbf{B}$, we can explore this behavior by manipulating $\\epsilon$ directly. For this demonstration we'll set $T=1$.\n",
    "\n",
    "*Aside*: In this simple case we can analytically write down the magnetization as a simple hyperbolic function."
   ]
  },
  {
   "cell_type": "code",
   "execution_count": null,
   "metadata": {},
   "outputs": [],
   "source": [
    "eps_values = np.arange(-2, 2, 0.01)\n",
    "m_values   = []\n",
    "\n",
    "for eps in eps_values:\n",
    "    p_pos, p_neg = gibbs(eps, 1)\n",
    "    m_values.append( p_pos - p_neg )\n",
    "    \n",
    "sns.lineplot(eps_values, m_values)\n",
    "plt.xlabel('magnetic field')\n",
    "plt.ylabel('magnetization');"
   ]
  },
  {
   "cell_type": "code",
   "execution_count": null,
   "metadata": {},
   "outputs": [],
   "source": [
    "\n",
    "\n",
    "\n",
    "\n",
    "\n",
    "\n",
    "\n",
    "\n",
    "\n",
    "\n",
    "\n",
    "\n",
    "\n",
    "\n",
    "\n",
    "\n",
    "\n",
    "\n",
    "\n",
    "\n",
    "\n",
    "\n"
   ]
  },
  {
   "cell_type": "markdown",
   "metadata": {},
   "source": [
    "**Exercise**: Explore the behavior of the magnetization as a function of the temperature when the strength of the magnetic field is fixed such that $\\epsilon = 1$. What do you expect to observe? \n",
    "\n",
    "**Note**: You might want to use a logarithmic scale for the temperature range. You can do this with the `logspace` function from `numpy`. Calling `np.logspace(start, end, num)` will return an array of `num` numbers from $10^{\\rm{start}}$ to $10^{\\rm{end}}$ that are evenly spaced on a log scale."
   ]
  },
  {
   "cell_type": "code",
   "execution_count": null,
   "metadata": {},
   "outputs": [],
   "source": [
    "import numpy as np\n",
    "\n",
    "eps      = 1\n",
    "T_values = # FILL THIS IN\n",
    "m_values = []\n",
    "\n",
    "# Loop through the T values to fill in magnetizations!\n",
    "for T in T_values:\n",
    "\n",
    "    # < Your code here >\n",
    "    \n",
    "sns.lineplot(T_values, m_values)\n",
    "plt.xscale('log')\n",
    "plt.xlabel('temperature')\n",
    "plt.ylabel('magnetization');"
   ]
  },
  {
   "cell_type": "code",
   "execution_count": null,
   "metadata": {},
   "outputs": [],
   "source": [
    "\n",
    "\n",
    "\n",
    "\n",
    "\n",
    "\n",
    "\n",
    "\n",
    "\n",
    "\n",
    "\n",
    "\n",
    "\n",
    "\n",
    "\n",
    "\n",
    "\n",
    "\n",
    "\n",
    "\n",
    "\n",
    "\n"
   ]
  }
 ],
 "metadata": {
  "kernelspec": {
   "display_name": "Python 3",
   "language": "python",
   "name": "python3"
  },
  "language_info": {
   "codemirror_mode": {
    "name": "ipython",
    "version": 3
   },
   "file_extension": ".py",
   "mimetype": "text/x-python",
   "name": "python",
   "nbconvert_exporter": "python",
   "pygments_lexer": "ipython3",
   "version": "3.7.7"
  }
 },
 "nbformat": 4,
 "nbformat_minor": 2
}
